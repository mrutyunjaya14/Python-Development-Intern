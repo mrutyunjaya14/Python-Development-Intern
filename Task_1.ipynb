{
 "cells": [
  {
   "cell_type": "markdown",
   "id": "89b1de45-9841-4132-801d-bacc638ea2f1",
   "metadata": {},
   "source": [
    "**LEVEL 1**"
   ]
  },
  {
   "cell_type": "markdown",
   "id": "ef8cbb4e-a4b2-4288-8d0c-6d3fad76fa1e",
   "metadata": {},
   "source": [
    "**TASK 1 : String Reversal**\n"
   ]
  },
  {
   "cell_type": "markdown",
   "id": "a827f7e0-94db-4f75-b36e-6083cda5509f",
   "metadata": {},
   "source": [
    "        Here’s a Python function that reverses a string:"
   ]
  },
  {
   "cell_type": "code",
   "execution_count": 23,
   "id": "b6d26e88-fdc9-4e30-9c63-3ca1d789566d",
   "metadata": {},
   "outputs": [
    {
     "name": "stdin",
     "output_type": "stream",
     "text": [
      "Enter a string to reverse:  65\n"
     ]
    },
    {
     "name": "stdout",
     "output_type": "stream",
     "text": [
      "Please enter a valid string containing only letters.\n"
     ]
    },
    {
     "name": "stdin",
     "output_type": "stream",
     "text": [
      "Enter a string to reverse:  tyur\n"
     ]
    },
    {
     "name": "stdout",
     "output_type": "stream",
     "text": [
      "Reversed string: ruyt\n"
     ]
    }
   ],
   "source": [
    "def reverse_string(s):\n",
    "    \"\"\"Function to reverse a string.\"\"\"\n",
    "    return s[::-1]\n",
    "\n",
    "def main():\n",
    "    while True:\n",
    "        input_string = input(\"Enter a string to reverse: \")\n",
    "        \n",
    "        # Check if the input is valid (not empty and only alphabetic)\n",
    "        if input_string.isalpha():  # Ensures only alphabetic characters\n",
    "            reversed_string = reverse_string(input_string)\n",
    "            print(\"Reversed string:\", reversed_string)\n",
    "              # Exit the loop if valid input is provided\n",
    "            break\n",
    "        else:\n",
    "            print(\"Please enter a valid string containing only letters.\")\n",
    "            \n",
    "\n",
    "if __name__ == \"__main__\":\n",
    "    main()\n"
   ]
  }
 ],
 "metadata": {
  "kernelspec": {
   "display_name": "Python 3 (ipykernel)",
   "language": "python",
   "name": "python3"
  },
  "language_info": {
   "codemirror_mode": {
    "name": "ipython",
    "version": 3
   },
   "file_extension": ".py",
   "mimetype": "text/x-python",
   "name": "python",
   "nbconvert_exporter": "python",
   "pygments_lexer": "ipython3",
   "version": "3.12.4"
  }
 },
 "nbformat": 4,
 "nbformat_minor": 5
}
