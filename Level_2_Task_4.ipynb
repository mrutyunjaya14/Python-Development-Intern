{
 "cells": [
  {
   "cell_type": "markdown",
   "id": "47ccbdaa-7216-4fe5-bcb0-608b2db81774",
   "metadata": {},
   "source": [
    "**Level-2**"
   ]
  },
  {
   "cell_type": "markdown",
   "id": "fda023d9-40cd-40df-9734-8830e3ed6bad",
   "metadata": {},
   "source": [
    "**Task-4: Fibonacci Sequence**"
   ]
  },
  {
   "cell_type": "code",
   "execution_count": 7,
   "id": "13d89610-44f5-468f-ab88-7d6a059ab606",
   "metadata": {},
   "outputs": [
    {
     "name": "stdin",
     "output_type": "stream",
     "text": [
      "Enter the number of Fibonacci numbers to generate: 7\n"
     ]
    },
    {
     "name": "stdout",
     "output_type": "stream",
     "text": [
      "0 1 1 2 3 5 8 "
     ]
    }
   ],
   "source": [
    "def fibonacci(num):\n",
    "    a,b=0,1\n",
    "    sum=0\n",
    "    print(a,end=' ')\n",
    "    print(b,end=' ')\n",
    "    for i in range(1,num-1):\n",
    "        sum=a+b\n",
    "        a=b\n",
    "        b=sum\n",
    "        print(sum,end=' ')\n",
    "\n",
    "\n",
    "num=eval(input(\"Enter the number of Fibonacci numbers to generate:\"))\n",
    "fibonacci(num)"
   ]
  },
  {
   "cell_type": "code",
   "execution_count": 7,
   "id": "5495469c-46d4-442a-9ba5-32c277136392",
   "metadata": {},
   "outputs": [
    {
     "name": "stdout",
     "output_type": "stream",
     "text": [
      "0 1 1 2 3 5 8 13 "
     ]
    }
   ],
   "source": [
    "a=0\n",
    "b=1\n",
    "print(a,end=' ')\n",
    "for i in range(7):\n",
    "    a,b=b,a+b\n",
    "    print(a,end=\" \")"
   ]
  },
  {
   "cell_type": "code",
   "execution_count": null,
   "id": "2ce3f110-0f52-497a-9823-1ab2ed58ac2f",
   "metadata": {},
   "outputs": [],
   "source": []
  }
 ],
 "metadata": {
  "kernelspec": {
   "display_name": "Python 3 (ipykernel)",
   "language": "python",
   "name": "python3"
  },
  "language_info": {
   "codemirror_mode": {
    "name": "ipython",
    "version": 3
   },
   "file_extension": ".py",
   "mimetype": "text/x-python",
   "name": "python",
   "nbconvert_exporter": "python",
   "pygments_lexer": "ipython3",
   "version": "3.12.4"
  }
 },
 "nbformat": 4,
 "nbformat_minor": 5
}
