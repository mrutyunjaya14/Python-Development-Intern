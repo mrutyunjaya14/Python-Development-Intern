{
 "cells": [
  {
   "cell_type": "code",
   "execution_count": 3,
   "id": "4e7e0d2c-8fda-43c7-98e3-4bfcfe0207c5",
   "metadata": {},
   "outputs": [
    {
     "name": "stdin",
     "output_type": "stream",
     "text": [
      "Enter file name:  text.txt\n"
     ]
    },
    {
     "name": "stdout",
     "output_type": "stream",
     "text": [
      "Hello: 1\n",
      "are: 1\n",
      "everyone: 2\n",
      "guys: 2\n",
      "hello: 1\n",
      "hii: 1\n",
      "laugh: 1\n",
      "ready?: 1\n",
      "should: 1\n",
      "world: 1\n",
      "you: 1\n"
     ]
    }
   ],
   "source": [
    "fname = input(\"Enter file name: \")\n",
    "try:\n",
    "    fhand = open(fname, 'r')\n",
    "    occor = dict()\n",
    "    \n",
    "    for line in fhand:\n",
    "        # Corrected 'slipt()' to 'split()'\n",
    "        words = line.split()\n",
    "        \n",
    "        for word in words:\n",
    "            # Using the word as the key in the dictionary\n",
    "            # Check if word is already in the dictionary\n",
    "            if word in occor:\n",
    "                occor[word] += 1\n",
    "            else:\n",
    "                occor[word] = 1\n",
    "    \n",
    "    fhand.close()  # Close the file after reading\n",
    "    \n",
    "    # Sort and print the results\n",
    "    for word in sorted(occor):\n",
    "        print(f\"{word}: {occor[word]}\")\n",
    "        \n",
    "except FileNotFoundError:\n",
    "    print(\"File not found!!!\")\n",
    "except Exception as e:\n",
    "    print(f\"An error occurred: {e}\")\n"
   ]
  },
  {
   "cell_type": "code",
   "execution_count": null,
   "id": "1daab10b-991a-40a7-96b7-6a81b62ae6ac",
   "metadata": {},
   "outputs": [],
   "source": []
  }
 ],
 "metadata": {
  "kernelspec": {
   "display_name": "Python 3 (ipykernel)",
   "language": "python",
   "name": "python3"
  },
  "language_info": {
   "codemirror_mode": {
    "name": "ipython",
    "version": 3
   },
   "file_extension": ".py",
   "mimetype": "text/x-python",
   "name": "python",
   "nbconvert_exporter": "python",
   "pygments_lexer": "ipython3",
   "version": "3.12.4"
  }
 },
 "nbformat": 4,
 "nbformat_minor": 5
}
