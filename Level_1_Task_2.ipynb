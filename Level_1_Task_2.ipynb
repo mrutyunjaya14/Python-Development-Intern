{
 "cells": [
  {
   "cell_type": "markdown",
   "id": "9312262e-1a67-4471-b7a9-34f604641b96",
   "metadata": {},
   "source": [
    "**Level-1**"
   ]
  },
  {
   "cell_type": "markdown",
   "id": "ab4d007b-c324-47b6-8e21-cc0d41f606c0",
   "metadata": {},
   "source": [
    "**Task-2: Temperature Conversion**"
   ]
  },
  {
   "cell_type": "code",
   "execution_count": 7,
   "id": "c57308b7-c006-4fc7-a387-0abd6db51a88",
   "metadata": {},
   "outputs": [
    {
     "name": "stdin",
     "output_type": "stream",
     "text": [
      "Enter temperature : 43\n",
      "Enter unit (C for Celsius, F for Fahrenheit):  c\n"
     ]
    },
    {
     "name": "stdout",
     "output_type": "stream",
     "text": [
      "converted temperature is 109.40 °F\n"
     ]
    }
   ],
   "source": [
    "def celsius_to_fahrenheit(celsius):\n",
    "    #conver celcius to fahrenheit \n",
    "    return (celsius * 9/5)+32   # this is a formula for conversion ofcelcius to fahrenheit\n",
    "\n",
    "def fahrenheit_to_celsius(fahrenheit):\n",
    "    #Convert Fahrenheit to Celsius \n",
    "    return (fahrenheit-32) * 5/9   # this is a formula for conversion ofcelcius to fahrenheit\n",
    "\n",
    "def main():\n",
    "    #here user input a temperature \n",
    "    temperature=float(input(\"Enter temperature :\"))\n",
    "    \n",
    "    unit=input(\"Enter unit (C for Celsius, F for Fahrenheit): \") .strip().upper()\n",
    "\n",
    "    if unit=='C':\n",
    "        converted_temp=celsius_to_fahrenheit(temperature)\n",
    "        print(f'converted temperature is {converted_temp:.2f} °F') # display upto 2 places of decimal point\n",
    "    elif unit=='F':\n",
    "        converted_temp=fahrenheit_to_celsius(temperature)\n",
    "        print(f'converted temperature is {converted_temp:.2f} °C') \n",
    "    else:\n",
    "        print('please enter valid temperature or unit .')\n",
    "\n",
    "if __name__ == \"__main__\":\n",
    "    main()"
   ]
  },
  {
   "cell_type": "code",
   "execution_count": null,
   "id": "7e1e3c84-1b76-4778-b8d5-2335116c09ca",
   "metadata": {},
   "outputs": [],
   "source": []
  }
 ],
 "metadata": {
  "kernelspec": {
   "display_name": "Python 3 (ipykernel)",
   "language": "python",
   "name": "python3"
  },
  "language_info": {
   "codemirror_mode": {
    "name": "ipython",
    "version": 3
   },
   "file_extension": ".py",
   "mimetype": "text/x-python",
   "name": "python",
   "nbconvert_exporter": "python",
   "pygments_lexer": "ipython3",
   "version": "3.12.4"
  }
 },
 "nbformat": 4,
 "nbformat_minor": 5
}
