{
 "cells": [
  {
   "cell_type": "markdown",
   "id": "857e6798-f253-4345-8a88-dca478d917f0",
   "metadata": {},
   "source": [
    "**Level-2**"
   ]
  },
  {
   "cell_type": "markdown",
   "id": "a5717a9e-263c-4c99-91ee-892a6a762e64",
   "metadata": {},
   "source": [
    "**Task-2: Guessing Number**"
   ]
  },
  {
   "cell_type": "code",
   "execution_count": null,
   "id": "3c8b8dc6-e97a-42de-8fa8-fad35e0c8541",
   "metadata": {},
   "outputs": [],
   "source": [
    "from random import randint\n",
    "num1=randint(1,100)\n",
    "attempts=0\n",
    "while attempts<10:\n",
    "    num2=eval(input(\"Guess the number :\"))\n",
    "    if num2<0 or num2>100:\n",
    "        print(\"Please  Enter a  number between 1 to 100\")\n",
    "    elif num1==num2:\n",
    "        print(f\"congratulation!!! you guessed {num1} in {attempts} attempts \")\n",
    "        break\n",
    "    else:\n",
    "        attempts+=1\n",
    "        if num1>num2:\n",
    "            print(\"Hints: Too high ! Try again\")\n",
    "        else:\n",
    "            print(\"Hints: Too low ! try again\")\n",
    "    \n",
    "if attempts==10:\n",
    "    print(\"you lost the game ! Try again after 24 hour \")\n",
    "          "
   ]
  }
 ],
 "metadata": {
  "kernelspec": {
   "display_name": "Python 3 (ipykernel)",
   "language": "python",
   "name": "python3"
  },
  "language_info": {
   "codemirror_mode": {
    "name": "ipython",
    "version": 3
   },
   "file_extension": ".py",
   "mimetype": "text/x-python",
   "name": "python",
   "nbconvert_exporter": "python",
   "pygments_lexer": "ipython3",
   "version": "3.12.4"
  }
 },
 "nbformat": 4,
 "nbformat_minor": 5
}
