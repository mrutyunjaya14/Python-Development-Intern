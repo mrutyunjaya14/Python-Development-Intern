{
 "cells": [
  {
   "cell_type": "markdown",
   "id": "03aef9ac-3a7c-4f95-aa9e-a78a4b8e06ed",
   "metadata": {},
   "source": [
    "**LEVEL-1**"
   ]
  },
  {
   "cell_type": "markdown",
   "id": "d4d2c179-82d4-411f-a75d-6cc859cd0674",
   "metadata": {},
   "source": [
    "**Task-4 : Calculator**"
   ]
  },
  {
   "cell_type": "code",
   "execution_count": 12,
   "id": "1564e68e-626a-4dd2-998e-b8b958b95ef3",
   "metadata": {},
   "outputs": [
    {
     "name": "stdin",
     "output_type": "stream",
     "text": [
      "Enter first number : 54\n",
      "Enter second number : 54\n",
      "Enter operation(+,-,*,/,%): *\n"
     ]
    },
    {
     "name": "stdout",
     "output_type": "stream",
     "text": [
      "multiplication of 54.0 and 54.0 is 2916.0 \n"
     ]
    }
   ],
   "source": [
    "def addition(num1,num2):\n",
    "    sum=num1+NUM2\n",
    "    return sum\n",
    "\n",
    "def subtraction(num1,num2):\n",
    "    sub=num1-num2\n",
    "    return sub\n",
    "\n",
    "def multiplication(num1,num2):\n",
    "    mul=num1*num2\n",
    "    return mul\n",
    "\n",
    "def division(num1,num2):\n",
    "    div=num1/num2\n",
    "    return div\n",
    "\n",
    "def modulus(num1,num2):\n",
    "    mod=num1%num2\n",
    "    return mod\n",
    "\n",
    "def main():\n",
    "    num1=float(input(\"Enter first number :\"))\n",
    "    num2=float(input(\"Enter second number :\"))\n",
    "    operation=input(\"Enter operation(+,-,*,/,%):\")\n",
    "    if operation==\"+\":\n",
    "        res=addition(num1,num2)\n",
    "        print(f\"Addition of {num1} and {num2} is {res} \")\n",
    "    elif operation==\"-\":\n",
    "        res=subtraction(num1,num2)\n",
    "        print(f\"subtraction of {num1} and {num2} is {res} \")\n",
    "    elif operation==\"*\":\n",
    "        res=multiplication(num1,num2)\n",
    "        print(f\"multiplication of {num1} and {num2} is {res} \")\n",
    "    elif operation==\"/\":\n",
    "        res=division(num1,num2)\n",
    "        print(f\"Division of {num1} and {num2} is {res} \")\n",
    "    elif operation==\"%\":\n",
    "        res=modulus(num1,num2)\n",
    "        print(f\"modulus of {num1} and {num2} is {res} \")\n",
    "    else:\n",
    "        print(\"Please enter a valid operation \")\n",
    "\n",
    "main()"
   ]
  },
  {
   "cell_type": "code",
   "execution_count": null,
   "id": "242805f2-3523-4c9e-8528-51ff44c4ddfd",
   "metadata": {},
   "outputs": [],
   "source": []
  }
 ],
 "metadata": {
  "kernelspec": {
   "display_name": "Python 3 (ipykernel)",
   "language": "python",
   "name": "python3"
  },
  "language_info": {
   "codemirror_mode": {
    "name": "ipython",
    "version": 3
   },
   "file_extension": ".py",
   "mimetype": "text/x-python",
   "name": "python",
   "nbconvert_exporter": "python",
   "pygments_lexer": "ipython3",
   "version": "3.12.4"
  }
 },
 "nbformat": 4,
 "nbformat_minor": 5
}
