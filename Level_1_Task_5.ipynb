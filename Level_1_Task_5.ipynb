{
 "cells": [
  {
   "cell_type": "markdown",
   "id": "3c19f3a7-345e-41b3-a28c-f583573b1d15",
   "metadata": {},
   "source": [
    "**Level-1**"
   ]
  },
  {
   "cell_type": "markdown",
   "id": "94477d22-e980-428f-a1e4-4308b6ef8e78",
   "metadata": {},
   "source": [
    "**Task-5: Palindrome checker**"
   ]
  },
  {
   "cell_type": "code",
   "execution_count": 7,
   "id": "75ae6689-3c7b-4e3a-897e-fb9cba8f341d",
   "metadata": {},
   "outputs": [
    {
     "name": "stdin",
     "output_type": "stream",
     "text": [
      "Enter a string  marccram\n"
     ]
    },
    {
     "name": "stdout",
     "output_type": "stream",
     "text": [
      "marccram is a palindrom \n"
     ]
    }
   ],
   "source": [
    "import string\n",
    "def is_palindrom(s):\n",
    "    s=s.replace(\".\" , \"\").lower()\n",
    "    return s==s[::-1]\n",
    "\n",
    "def main():\n",
    "    user_input=input(\"Enter a string \")\n",
    "    if is_palindrom(user_input):\n",
    "        print(f\"{user_input} is a palindrom \")\n",
    "    else:\n",
    "        print(f\"{user_input} is not a palindrom\")\n",
    "\n",
    "if __name__ == \"__main__\":\n",
    "    main()"
   ]
  },
  {
   "cell_type": "code",
   "execution_count": null,
   "id": "ea1bb676-1714-4a66-9d3d-d09b2f201e18",
   "metadata": {},
   "outputs": [],
   "source": []
  }
 ],
 "metadata": {
  "kernelspec": {
   "display_name": "Python 3 (ipykernel)",
   "language": "python",
   "name": "python3"
  },
  "language_info": {
   "codemirror_mode": {
    "name": "ipython",
    "version": 3
   },
   "file_extension": ".py",
   "mimetype": "text/x-python",
   "name": "python",
   "nbconvert_exporter": "python",
   "pygments_lexer": "ipython3",
   "version": "3.12.4"
  }
 },
 "nbformat": 4,
 "nbformat_minor": 5
}
