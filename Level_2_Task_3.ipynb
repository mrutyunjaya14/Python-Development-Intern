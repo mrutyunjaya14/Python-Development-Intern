{
 "cells": [
  {
   "cell_type": "markdown",
   "id": "a6ab2e69-793c-4e7c-b8e1-2576a8caa87c",
   "metadata": {},
   "source": [
    "**Level-2**"
   ]
  },
  {
   "cell_type": "markdown",
   "id": "dd0eccd5-417a-4bfa-8167-2015dc7f4ebf",
   "metadata": {},
   "source": [
    "**Task-3: Password Strength Cheacker**"
   ]
  },
  {
   "cell_type": "code",
   "execution_count": 14,
   "id": "13ee6a28-e018-455a-8f14-0cbd7b3e0141",
   "metadata": {},
   "outputs": [
    {
     "name": "stdin",
     "output_type": "stream",
     "text": [
      "Enter your password : Password@123\n"
     ]
    },
    {
     "name": "stdout",
     "output_type": "stream",
     "text": [
      "Strong password!!!\n"
     ]
    }
   ],
   "source": [
    "import re \n",
    "\n",
    "def password_strenth(password):\n",
    "    if len(password)<8:\n",
    "        return \"Weak ! password length must be atleast 9 charcters.\"\n",
    "\n",
    "    upper_char = bool(re.search(r'[A-Z]', password))\n",
    "    lower_char=bool(re.search(r'[a-z]',password))\n",
    "    digit=bool(re.search(r'[0-9]',password))\n",
    "    special_char=bool(re.search(r'[!@#$%^&*(),.?\":{}|<>]', password))\n",
    "\n",
    "    strength=sum([upper_char,lower_char,digit,special_char])\n",
    "    if strength==4:\n",
    "        return 'Strong password!!!'\n",
    "    elif strength==3:\n",
    "        return \"Average\"\n",
    "    else:\n",
    "        return \"weak password\"\n",
    "\n",
    "\n",
    "password=input(\"Enter your password :\")\n",
    "result=print(password_strenth(password))\n",
    "if result:\n",
    "    print(result)"
   ]
  },
  {
   "cell_type": "code",
   "execution_count": null,
   "id": "3cc6ef3c-10b1-499a-82ee-ef113f3f08cd",
   "metadata": {},
   "outputs": [],
   "source": []
  }
 ],
 "metadata": {
  "kernelspec": {
   "display_name": "Python 3 (ipykernel)",
   "language": "python",
   "name": "python3"
  },
  "language_info": {
   "codemirror_mode": {
    "name": "ipython",
    "version": 3
   },
   "file_extension": ".py",
   "mimetype": "text/x-python",
   "name": "python",
   "nbconvert_exporter": "python",
   "pygments_lexer": "ipython3",
   "version": "3.12.4"
  }
 },
 "nbformat": 4,
 "nbformat_minor": 5
}
