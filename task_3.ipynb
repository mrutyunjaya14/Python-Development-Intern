{
 "cells": [
  {
   "cell_type": "markdown",
   "id": "ff11b7c2-c8f5-4322-b15a-989ba51804ff",
   "metadata": {},
   "source": [
    "**LEVEL-1**"
   ]
  },
  {
   "cell_type": "markdown",
   "id": "eef11702-1f20-4417-bb16-d970ca600649",
   "metadata": {},
   "source": [
    "**Task-3 : Email validation**"
   ]
  },
  {
   "cell_type": "code",
   "execution_count": 41,
   "id": "064c81c4-fe3d-4fbe-8d35-404bec88154d",
   "metadata": {},
   "outputs": [
    {
     "name": "stdin",
     "output_type": "stream",
     "text": [
      "Enter email : h@.in\n"
     ]
    },
    {
     "name": "stdout",
     "output_type": "stream",
     "text": [
      "Wrong email . please try something else1 \n"
     ]
    }
   ],
   "source": [
    "email=input(\"Enter email :\")\n",
    "a,b,c=0,0,0\n",
    "if len(email)>=6:  # first condtion : one valid email should contain atleast 6 letter example: p@p.in(this is minimum required )\n",
    "    if email[0].isalpha():  #second condition : check first letter is alphabet or not\n",
    "        if (\"@\" in email) and (email.count('@')==1):  # third condition :cheak @ symbol and it should one \n",
    "            if (email[-4]==\".\" ) ^ (email[-3]==\".\"):  # fourth condtion: check (.) symbol in 3rd or 4 th places from right because domain name .com or .in\n",
    "                for i in email:\n",
    "                    if i==i.isspace(): # check space \n",
    "                        a=1\n",
    "                    elif i==i.isalpha():\n",
    "                        if i==i.upper(): # check is there any upper letter \n",
    "                            b=1\n",
    "                    elif i.isdigit():\n",
    "                            continue\n",
    "                    elif i==\"_\" or i==\".\" or i==\"@\": # only underscore, comma , and @ is valid \n",
    "                            continue\n",
    "                    else:\n",
    "                        c=1\n",
    "\n",
    "                if a==1 or b==1 or c==1:\n",
    "                    print(\"Wrong email . please try something else \")\n",
    "                else:\n",
    "                    print(\"Welcom!! this is a right email\")\n",
    "                                        \n",
    "            else:\n",
    "                print(\"Wrong email . please try something else4 \")\n",
    "        else:\n",
    "            print(\"Wrong email . please try something else3 \")\n",
    "    else:\n",
    "        print(\"Wrong email . please try something else 2\")\n",
    "else:\n",
    "    print(\"Wrong email . please try something else1 \")"
   ]
  },
  {
   "cell_type": "code",
   "execution_count": null,
   "id": "a2d08d77-8b44-4f20-8774-29817cedd8ea",
   "metadata": {},
   "outputs": [],
   "source": []
  }
 ],
 "metadata": {
  "kernelspec": {
   "display_name": "Python 3 (ipykernel)",
   "language": "python",
   "name": "python3"
  },
  "language_info": {
   "codemirror_mode": {
    "name": "ipython",
    "version": 3
   },
   "file_extension": ".py",
   "mimetype": "text/x-python",
   "name": "python",
   "nbconvert_exporter": "python",
   "pygments_lexer": "ipython3",
   "version": "3.12.4"
  }
 },
 "nbformat": 4,
 "nbformat_minor": 5
}
