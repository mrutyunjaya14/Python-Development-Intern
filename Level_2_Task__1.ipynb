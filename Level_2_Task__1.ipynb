{
 "cells": [
  {
   "cell_type": "markdown",
   "id": "f8dc6068-bf6c-49df-b009-12f04ace7ea9",
   "metadata": {},
   "source": [
    "**Level-1**"
   ]
  },
  {
   "cell_type": "markdown",
   "id": "4a92daea-607b-4f48-99be-43d508f2fa42",
   "metadata": {},
   "source": [
    "**TAsk-1: Guessing Game**"
   ]
  },
  {
   "cell_type": "code",
   "execution_count": 7,
   "id": "cf41ab34-d2bb-4498-8108-751cc4cc2e41",
   "metadata": {},
   "outputs": [
    {
     "name": "stdin",
     "output_type": "stream",
     "text": [
      "Guess the number : 4\n"
     ]
    },
    {
     "name": "stdout",
     "output_type": "stream",
     "text": [
      "Hints: Too high ! Try again\n"
     ]
    },
    {
     "name": "stdin",
     "output_type": "stream",
     "text": [
      "Guess the number : 890\n"
     ]
    },
    {
     "name": "stdout",
     "output_type": "stream",
     "text": [
      "Please  Enter a  number between 1 to 100\n"
     ]
    },
    {
     "name": "stdin",
     "output_type": "stream",
     "text": [
      "Guess the number : 89\n"
     ]
    },
    {
     "name": "stdout",
     "output_type": "stream",
     "text": [
      "Hints: Too low ! try again\n"
     ]
    },
    {
     "name": "stdin",
     "output_type": "stream",
     "text": [
      "Guess the number : 92\n"
     ]
    },
    {
     "name": "stdout",
     "output_type": "stream",
     "text": [
      "Hints: Too low ! try again\n"
     ]
    },
    {
     "name": "stdin",
     "output_type": "stream",
     "text": [
      "Guess the number : 91\n"
     ]
    },
    {
     "name": "stdout",
     "output_type": "stream",
     "text": [
      "Hints: Too low ! try again\n"
     ]
    },
    {
     "name": "stdin",
     "output_type": "stream",
     "text": [
      "Guess the number : 90\n"
     ]
    },
    {
     "name": "stdout",
     "output_type": "stream",
     "text": [
      "Hints: Too low ! try again\n"
     ]
    },
    {
     "name": "stdin",
     "output_type": "stream",
     "text": [
      "Guess the number : 89\n"
     ]
    },
    {
     "name": "stdout",
     "output_type": "stream",
     "text": [
      "Hints: Too low ! try again\n"
     ]
    },
    {
     "name": "stdin",
     "output_type": "stream",
     "text": [
      "Guess the number : 88\n"
     ]
    },
    {
     "name": "stdout",
     "output_type": "stream",
     "text": [
      "Hints: Too low ! try again\n"
     ]
    },
    {
     "name": "stdin",
     "output_type": "stream",
     "text": [
      "Guess the number : 80\n"
     ]
    },
    {
     "name": "stdout",
     "output_type": "stream",
     "text": [
      "Hints: Too low ! try again\n"
     ]
    },
    {
     "name": "stdin",
     "output_type": "stream",
     "text": [
      "Guess the number : 70\n"
     ]
    },
    {
     "name": "stdout",
     "output_type": "stream",
     "text": [
      "Hints: Too low ! try again\n"
     ]
    },
    {
     "name": "stdin",
     "output_type": "stream",
     "text": [
      "Guess the number : 50\n"
     ]
    },
    {
     "name": "stdout",
     "output_type": "stream",
     "text": [
      "Hints: Too low ! try again\n",
      "you lost the game ! Try again after 24 hour \n"
     ]
    }
   ],
   "source": [
    "from random import randint\n",
    "num1=randint(1,100)\n",
    "attempts=0\n",
    "while attempts<10:\n",
    "    num2=eval(input(\"Guess the number :\"))\n",
    "    if num2<0 or num2>100:\n",
    "        print(\"Please  Enter a  number between 1 to 100\")\n",
    "    elif num1==num2:\n",
    "        print(f\"congratulation!!! you guessed {num1} in {attempts} attempts \")\n",
    "        break\n",
    "    else:\n",
    "        attempts+=1\n",
    "        if num1>num2:\n",
    "            print(\"Hints: Too high ! Try again\")\n",
    "        else:\n",
    "            print(\"Hints: Too low ! try again\")\n",
    "    \n",
    "if attempts==10:\n",
    "    print(\"you lost the game ! Try again after 24 hour \")\n",
    "          "
   ]
  },
  {
   "cell_type": "code",
   "execution_count": null,
   "id": "0a4d4679-9588-415e-9c8e-b69fbb177361",
   "metadata": {},
   "outputs": [],
   "source": []
  }
 ],
 "metadata": {
  "kernelspec": {
   "display_name": "Python 3 (ipykernel)",
   "language": "python",
   "name": "python3"
  },
  "language_info": {
   "codemirror_mode": {
    "name": "ipython",
    "version": 3
   },
   "file_extension": ".py",
   "mimetype": "text/x-python",
   "name": "python",
   "nbconvert_exporter": "python",
   "pygments_lexer": "ipython3",
   "version": "3.12.4"
  }
 },
 "nbformat": 4,
 "nbformat_minor": 5
}
