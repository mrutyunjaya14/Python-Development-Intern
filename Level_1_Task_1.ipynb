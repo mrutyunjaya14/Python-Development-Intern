{
 "cells": [
  {
   "cell_type": "markdown",
   "id": "67a405d1-ea1f-4ba1-8ed7-3338dff30a7f",
   "metadata": {},
   "source": [
    "**Level-1**"
   ]
  },
  {
   "cell_type": "markdown",
   "id": "14e0cadd-20d3-459f-bd60-dc2e2c07d2c2",
   "metadata": {},
   "source": [
    "**Task-2 : Guessing Game**"
   ]
  },
  {
   "cell_type": "code",
   "execution_count": 7,
   "id": "4ae79769-e94b-4bec-97a7-3f5a156746ee",
   "metadata": {},
   "outputs": [
    {
     "name": "stdin",
     "output_type": "stream",
     "text": [
      "Guess the number : 10\n"
     ]
    },
    {
     "name": "stdout",
     "output_type": "stream",
     "text": [
      "Hints: Too high ! Try again\n"
     ]
    },
    {
     "name": "stdin",
     "output_type": "stream",
     "text": [
      "Guess the number : 20\n"
     ]
    },
    {
     "name": "stdout",
     "output_type": "stream",
     "text": [
      "Hints: Too high ! Try again\n"
     ]
    },
    {
     "name": "stdin",
     "output_type": "stream",
     "text": [
      "Guess the number : 30\n"
     ]
    },
    {
     "name": "stdout",
     "output_type": "stream",
     "text": [
      "Hints: Too high ! Try again\n"
     ]
    },
    {
     "name": "stdin",
     "output_type": "stream",
     "text": [
      "Guess the number : 40\n"
     ]
    },
    {
     "name": "stdout",
     "output_type": "stream",
     "text": [
      "congratulation!!! you guessed 40 in 3 attempts \n"
     ]
    }
   ],
   "source": [
    "from random import randint\n",
    "num1=randint(1,100) #random integer between 1 to 100\n",
    "attempts=0\n",
    "while attempts<10:\n",
    "    num2=eval(input(\"Guess the number :\"))\n",
    "    if num2<0 or num2>100:\n",
    "        print(\"Please  Enter a  number between 1 to 100\")\n",
    "    elif num1==num2: \n",
    "        print(f\"congratulation!!! you guessed {num1} in {attempts} attempts \")\n",
    "        break\n",
    "    else:\n",
    "        attempts+=1\n",
    "        if num1>num2:\n",
    "            print(\"Hints: Too high ! Try again\")\n",
    "        else:\n",
    "            print(\"Hints: Too low ! try again\")\n",
    "    \n",
    "if attempts==10:\n",
    "    print(\"you lost the game ! Try again after 24 hour \")"
   ]
  }
 ],
 "metadata": {
  "kernelspec": {
   "display_name": "Python 3 (ipykernel)",
   "language": "python",
   "name": "python3"
  },
  "language_info": {
   "codemirror_mode": {
    "name": "ipython",
    "version": 3
   },
   "file_extension": ".py",
   "mimetype": "text/x-python",
   "name": "python",
   "nbconvert_exporter": "python",
   "pygments_lexer": "ipython3",
   "version": "3.12.4"
  }
 },
 "nbformat": 4,
 "nbformat_minor": 5
}
