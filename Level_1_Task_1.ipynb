{
 "cells": [
  {
   "cell_type": "markdown",
   "id": "67a405d1-ea1f-4ba1-8ed7-3338dff30a7f",
   "metadata": {},
   "source": [
    "**Level-1**"
   ]
  },
  {
   "cell_type": "markdown",
   "id": "14e0cadd-20d3-459f-bd60-dc2e2c07d2c2",
   "metadata": {},
   "source": [
    "**Task-1: String Revesal**"
   ]
  },
  {
   "cell_type": "code",
   "execution_count": 15,
   "id": "4ae79769-e94b-4bec-97a7-3f5a156746ee",
   "metadata": {},
   "outputs": [
    {
     "name": "stdin",
     "output_type": "stream",
     "text": [
      "Enter a string to reverse:  ramayan\n"
     ]
    },
    {
     "name": "stdout",
     "output_type": "stream",
     "text": [
      "Reversed string: nayamar\n"
     ]
    }
   ],
   "source": [
    "def reverse_string(s):\n",
    "    \"\"\"Function to reverse a string.\"\"\"\n",
    "    return s[::-1]\n",
    "\n",
    "def main():\n",
    "    while True:\n",
    "        input_string = input(\"Enter a string to reverse: \")\n",
    "        \n",
    "        # Check if the input is valid (not empty and only alphabetic)\n",
    "        if input_string.isalpha():  # Ensures only alphabetic characters\n",
    "            reversed_string = reverse_string(input_string)\n",
    "            print(\"Reversed string:\", reversed_string)\n",
    "              # Exit the loop if valid input is provided\n",
    "            break\n",
    "        else:\n",
    "            print(\"Please enter a valid string containing only letters.\")\n",
    "            \n",
    "\n",
    "if __name__ == \"__main__\":\n",
    "    main()"
   ]
  },
  {
   "cell_type": "code",
   "execution_count": null,
   "id": "37edc6f5-1061-41bf-a5ad-df378eceff30",
   "metadata": {},
   "outputs": [],
   "source": []
  }
 ],
 "metadata": {
  "kernelspec": {
   "display_name": "Python 3 (ipykernel)",
   "language": "python",
   "name": "python3"
  },
  "language_info": {
   "codemirror_mode": {
    "name": "ipython",
    "version": 3
   },
   "file_extension": ".py",
   "mimetype": "text/x-python",
   "name": "python",
   "nbconvert_exporter": "python",
   "pygments_lexer": "ipython3",
   "version": "3.12.4"
  }
 },
 "nbformat": 4,
 "nbformat_minor": 5
}
