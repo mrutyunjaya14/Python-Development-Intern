{
 "cells": [
  {
   "cell_type": "markdown",
   "id": "aa049416-eed7-4d2a-88d7-8e2404196a4b",
   "metadata": {},
   "source": [
    "**Level-1**"
   ]
  },
  {
   "cell_type": "markdown",
   "id": "6a036026-e564-4f72-9bc4-e56cc619c1c2",
   "metadata": {},
   "source": [
    "**Task-4: Calculator**"
   ]
  },
  {
   "cell_type": "code",
   "execution_count": 4,
   "id": "a84b1711-6c95-4d70-b100-5dbf93a6ffd9",
   "metadata": {},
   "outputs": [
    {
     "name": "stdin",
     "output_type": "stream",
     "text": [
      "Enter first number : 34\n",
      "Enter second number : 22\n",
      "Enter operation(+,-,*,/,%): -\n"
     ]
    },
    {
     "name": "stdout",
     "output_type": "stream",
     "text": [
      "subtraction of 34.0 and 22.0 is 12.0 \n"
     ]
    }
   ],
   "source": [
    "def addition(num1,num2):\n",
    "    sum=num1+NUM2\n",
    "    return sum\n",
    "\n",
    "def subtraction(num1,num2):\n",
    "    sub=num1-num2\n",
    "    return sub\n",
    "\n",
    "def multiplication(num1,num2):\n",
    "    mul=num1*num2\n",
    "    return mul\n",
    "\n",
    "def division(num1,num2):\n",
    "    div=num1/num2\n",
    "    return div\n",
    "\n",
    "def modulus(num1,num2):\n",
    "    mod=num1%num2\n",
    "    return mod\n",
    "\n",
    "def main():\n",
    "    num1=float(input(\"Enter first number :\"))\n",
    "    num2=float(input(\"Enter second number :\"))\n",
    "    operation=input(\"Enter operation(+,-,*,/,%):\")\n",
    "    if operation==\"+\":\n",
    "        res=addition(num1,num2)\n",
    "        print(f\"Addition of {num1} and {num2} is {res} \")\n",
    "    elif operation==\"-\":\n",
    "        res=subtraction(num1,num2)\n",
    "        print(f\"subtraction of {num1} and {num2} is {res} \")\n",
    "    elif operation==\"*\":\n",
    "        res=multiplication(num1,num2)\n",
    "        print(f\"multiplication of {num1} and {num2} is {res} \")\n",
    "    elif operation==\"/\":\n",
    "        res=division(num1,num2)\n",
    "        print(f\"Division of {num1} and {num2} is {res} \")\n",
    "    elif operation==\"%\":\n",
    "        res=modulus(num1,num2)\n",
    "        print(f\"modulus of {num1} and {num2} is {res} \")\n",
    "    else:\n",
    "        print(\"Please enter a valid operation \")\n",
    "\n",
    "main()"
   ]
  },
  {
   "cell_type": "code",
   "execution_count": null,
   "id": "c6a13548-8ce6-4732-8332-24f89bc100b6",
   "metadata": {},
   "outputs": [],
   "source": []
  }
 ],
 "metadata": {
  "kernelspec": {
   "display_name": "Python 3 (ipykernel)",
   "language": "python",
   "name": "python3"
  },
  "language_info": {
   "codemirror_mode": {
    "name": "ipython",
    "version": 3
   },
   "file_extension": ".py",
   "mimetype": "text/x-python",
   "name": "python",
   "nbconvert_exporter": "python",
   "pygments_lexer": "ipython3",
   "version": "3.12.4"
  }
 },
 "nbformat": 4,
 "nbformat_minor": 5
}
