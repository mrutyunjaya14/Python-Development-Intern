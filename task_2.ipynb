{
 "cells": [
  {
   "cell_type": "markdown",
   "id": "171497b8-0668-4742-b448-a2e67501200a",
   "metadata": {},
   "source": [
    "**LEVEL 1**"
   ]
  },
  {
   "cell_type": "markdown",
   "id": "fe15ccf5-9eee-4bfc-b71e-dcb620bdceb8",
   "metadata": {},
   "source": [
    "**TASK-2 : TEMERATURE CONVERSION**"
   ]
  },
  {
   "cell_type": "code",
   "execution_count": 1,
   "id": "e70e9187-bbaf-487c-bc0f-e1a833e08fe0",
   "metadata": {},
   "outputs": [
    {
     "name": "stdin",
     "output_type": "stream",
     "text": [
      "Enter temperature : 43\n",
      "Enter unit (C for Celsius, F for Fahrenheit):  f\n"
     ]
    },
    {
     "name": "stdout",
     "output_type": "stream",
     "text": [
      "converted temperature is 6.11 °C\n"
     ]
    }
   ],
   "source": [
    "def celsius_to_fahrenheit(celsius):\n",
    "    #conver celcius to fahrenheit \n",
    "    return (celsius * 9/5)+32   # this is a formula for conversion ofcelcius to fahrenheit\n",
    "\n",
    "def fahrenheit_to_celsius(fahrenheit):\n",
    "    #Convert Fahrenheit to Celsius \n",
    "    return (fahrenheit-32) * 5/9   # this is a formula for conversion ofcelcius to fahrenheit\n",
    "\n",
    "def main():\n",
    "    #here user input a temperature \n",
    "    temperature=float(input(\"Enter temperature :\"))\n",
    "    \n",
    "    unit=input(\"Enter unit (C for Celsius, F for Fahrenheit): \") .strip().upper()\n",
    "\n",
    "    if unit=='C':\n",
    "        converted_temp=celsius_to_fahrenheit(temperature)\n",
    "        print(f'converted temperature is {converted_temp:.2f} °F') # display upto 2 places of decimal point\n",
    "    elif unit=='F':\n",
    "        converted_temp=fahrenheit_to_celsius(temperature)\n",
    "        print(f'converted temperature is {converted_temp:.2f} °C') \n",
    "    else:\n",
    "        print('please enter valid temperature or unit .')\n",
    "\n",
    "if __name__ == \"__main__\":\n",
    "    main()\n"
   ]
  },
  {
   "cell_type": "code",
   "execution_count": null,
   "id": "26a6eff7-3d80-4a0f-960b-ab6ea15b5810",
   "metadata": {},
   "outputs": [],
   "source": []
  }
 ],
 "metadata": {
  "kernelspec": {
   "display_name": "Python 3 (ipykernel)",
   "language": "python",
   "name": "python3"
  },
  "language_info": {
   "codemirror_mode": {
    "name": "ipython",
    "version": 3
   },
   "file_extension": ".py",
   "mimetype": "text/x-python",
   "name": "python",
   "nbconvert_exporter": "python",
   "pygments_lexer": "ipython3",
   "version": "3.12.4"
  }
 },
 "nbformat": 4,
 "nbformat_minor": 5
}
