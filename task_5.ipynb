{
 "cells": [
  {
   "cell_type": "markdown",
   "id": "17489f74-ff8a-4702-bc39-5edb3499af28",
   "metadata": {},
   "source": [
    "**LEVEL-1**"
   ]
  },
  {
   "cell_type": "markdown",
   "id": "40f70b8e-b760-410b-983c-5a2224f68fb6",
   "metadata": {},
   "source": [
    "**task-5: Palindrome checker**"
   ]
  },
  {
   "cell_type": "code",
   "execution_count": 12,
   "id": "e3330faa-b15e-4f25-9a58-ccf80ed7133e",
   "metadata": {},
   "outputs": [
    {
     "name": "stdin",
     "output_type": "stream",
     "text": [
      "Enter a string  marcoocram\n"
     ]
    },
    {
     "name": "stdout",
     "output_type": "stream",
     "text": [
      "marcoocram is a palindrom \n"
     ]
    }
   ],
   "source": [
    "#import string\n",
    "def is_palindrom(s):\n",
    "    s=s.replace(\".\" , \"\").lower()\n",
    "    return s==s[::-1]\n",
    "\n",
    "def main():\n",
    "    user_input=input(\"Enter a string \")\n",
    "    if is_palindrom(user_input):\n",
    "        print(f\"{user_input} is a palindrom \")\n",
    "    else:\n",
    "        print(f\"{user_input} is not a palindrom\")\n",
    "\n",
    "if __name__ == \"__main__\":\n",
    "    main()"
   ]
  },
  {
   "cell_type": "code",
   "execution_count": null,
   "id": "c4e9aa3f-d0c2-4a9b-8242-2dce2029db49",
   "metadata": {},
   "outputs": [],
   "source": []
  }
 ],
 "metadata": {
  "kernelspec": {
   "display_name": "Python 3 (ipykernel)",
   "language": "python",
   "name": "python3"
  },
  "language_info": {
   "codemirror_mode": {
    "name": "ipython",
    "version": 3
   },
   "file_extension": ".py",
   "mimetype": "text/x-python",
   "name": "python",
   "nbconvert_exporter": "python",
   "pygments_lexer": "ipython3",
   "version": "3.12.4"
  }
 },
 "nbformat": 4,
 "nbformat_minor": 5
}
